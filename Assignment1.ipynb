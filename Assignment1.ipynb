{
 "cells": [
  {
   "cell_type": "code",
   "execution_count": null,
   "id": "6e9c8038-9d63-4bfa-860d-df99e1a6c719",
   "metadata": {
    "scrolled": true
   },
   "outputs": [],
   "source": [
    "# Solutions of Task 1\n"
   ]
  },
  {
   "cell_type": "code",
   "execution_count": 3,
   "id": "e159bf81-b28f-41d1-8936-cf77e0ec33e3",
   "metadata": {},
   "outputs": [
    {
     "data": {
      "text/plain": [
       "[27, 125, 343, 512, 1728]"
      ]
     },
     "execution_count": 3,
     "metadata": {},
     "output_type": "execute_result"
    }
   ],
   "source": [
    "# Task 1.1\n",
    "\n",
    "nums = [3, 5, 7, 8, 12]\n",
    "\n",
    "nums = [x**3 for x in nums]\n",
    "nums\n"
   ]
  },
  {
   "cell_type": "code",
   "execution_count": 7,
   "id": "fda36bef-c8d3-4be0-a595-a98f377068e2",
   "metadata": {},
   "outputs": [
    {
     "data": {
      "text/plain": [
       "{'parrot': 2, 'goat': 4, 'spider': 8, 'crab': 10}"
      ]
     },
     "execution_count": 7,
     "metadata": {},
     "output_type": "execute_result"
    }
   ],
   "source": [
    "# Task 1.2\n",
    "\n",
    "anml_legs = dict()\n",
    "animals, legs = ['parrot', 'goat', 'spider', 'crab'], [2, 4, 8, 10]\n",
    "\n",
    "anml_legs = dict(zip(animals, legs))\n",
    "anml_legs"
   ]
  },
  {
   "cell_type": "code",
   "execution_count": 15,
   "id": "5fc5fc60-f2fb-49ed-8162-512594d72058",
   "metadata": {},
   "outputs": [
    {
     "name": "stdout",
     "output_type": "stream",
     "text": [
      "parrot has 2 legs\n",
      "goat has 4 legs\n",
      "spider has 8 legs\n",
      "crab has 10 legs\n",
      "Number of Total legs is: 24\n"
     ]
    }
   ],
   "source": [
    "# Task 1.3\n",
    "\n",
    "import sys\n",
    "stdout = sys.stdout\n",
    "\n",
    "anml_legs = {'parrot': 2, 'goat': 4, 'spider': 8, 'crab': 10}\n",
    "count = 0\n",
    "\n",
    "for _ in anml_legs.items():\n",
    "    print(f'{_[0]} has {_[1]} legs')\n",
    "    count += _[1]\n",
    "print(f'Number of Total legs is: {count}')"
   ]
  },
  {
   "cell_type": "code",
   "execution_count": 19,
   "id": "c6e73f58-f36c-44f3-a657-dfcc571c9eda",
   "metadata": {},
   "outputs": [
    {
     "name": "stdout",
     "output_type": "stream",
     "text": [
      "(3, 9, 4, [8, 6])\n"
     ]
    }
   ],
   "source": [
    "# Task 1.4\n",
    "\n",
    "A = (3, 9, 4, [5, 6])\n",
    "A[-1][0] = 8\n",
    "print(A)\n"
   ]
  },
  {
   "cell_type": "code",
   "execution_count": 23,
   "id": "81be8bd3-a65f-442a-8af1-d747b1e1ceb4",
   "metadata": {},
   "outputs": [],
   "source": [
    "# Task 1.5\n",
    "\n",
    "A = (1, 2, 3, 4)\n",
    "del A"
   ]
  },
  {
   "cell_type": "code",
   "execution_count": 25,
   "id": "639b2e95-3186-44d0-8d04-288a9e5b393a",
   "metadata": {},
   "outputs": [
    {
     "name": "stdout",
     "output_type": "stream",
     "text": [
      "\"p\" occurred 2 times\n"
     ]
    }
   ],
   "source": [
    "# Task 1.6\n",
    "\n",
    "B = ('a', 'p', 'p', 'l', 'e')\n",
    "print(f'\"p\" occurred {B.count(\"p\")} times')"
   ]
  },
  {
   "cell_type": "code",
   "execution_count": 27,
   "id": "52a80172-6774-4036-a3c2-73c2b35a5129",
   "metadata": {},
   "outputs": [
    {
     "name": "stdout",
     "output_type": "stream",
     "text": [
      "the index of \"l\" in B is: 3\n"
     ]
    }
   ],
   "source": [
    "# Task 1.7\n",
    "\n",
    "B = ('a', 'p', 'p', 'l', 'e')\n",
    "print(f'the index of \"l\" in B is: {B.index(\"l\")}')"
   ]
  },
  {
   "cell_type": "code",
   "execution_count": null,
   "id": "15b8542b-c6ae-4c0d-b763-b8c6220543f9",
   "metadata": {},
   "outputs": [],
   "source": [
    "# Solutions of Task 2"
   ]
  },
  {
   "cell_type": "code",
   "execution_count": 29,
   "id": "4f758dde-9119-44f4-854b-d2bbf54bc4bc",
   "metadata": {},
   "outputs": [
    {
     "data": {
      "text/plain": [
       "array([[ 1,  2,  3,  4],\n",
       "       [ 5,  6,  7,  8],\n",
       "       [ 9, 10, 11, 12]])"
      ]
     },
     "execution_count": 29,
     "metadata": {},
     "output_type": "execute_result"
    }
   ],
   "source": [
    "# Task 2.1\n",
    "\n",
    "import numpy as np\n",
    "A = [[1,2,3,4], [5,6,7,8], [9,10,11,12]]\n",
    "\n",
    "A_np = np.array(A)\n",
    "A_np"
   ]
  },
  {
   "cell_type": "code",
   "execution_count": 31,
   "id": "3ea8b058-cf3e-4af3-bf0d-09473bd0b2a5",
   "metadata": {},
   "outputs": [
    {
     "data": {
      "text/plain": [
       "array([[1, 2],\n",
       "       [5, 6]])"
      ]
     },
     "execution_count": 31,
     "metadata": {},
     "output_type": "execute_result"
    }
   ],
   "source": [
    "# Task 2.2\n",
    "b = A_np[0:2, 0:2]\n",
    "b"
   ]
  },
  {
   "cell_type": "code",
   "execution_count": 35,
   "id": "76a35444-01fe-4c42-88e5-67dfe376536a",
   "metadata": {},
   "outputs": [
    {
     "name": "stdout",
     "output_type": "stream",
     "text": [
      "[[0 0 0 0]\n",
      " [0 0 0 0]\n",
      " [0 0 0 0]]\n"
     ]
    }
   ],
   "source": [
    "# Task 2.3\n",
    "\n",
    "C = np.zeros_like(A)\n",
    "print(C)"
   ]
  },
  {
   "cell_type": "code",
   "execution_count": 37,
   "id": "2f7f1a5d-7c04-42c5-954e-a5c4efae3cc8",
   "metadata": {},
   "outputs": [
    {
     "data": {
      "text/plain": [
       "array([[ 2,  3,  4,  5],\n",
       "       [ 7,  8,  9, 10],\n",
       "       [12, 13, 14, 15]])"
      ]
     },
     "execution_count": 37,
     "metadata": {},
     "output_type": "execute_result"
    }
   ],
   "source": [
    "# Task 2.4\n",
    "\n",
    "z = np.array([1, 2, 3])\n",
    "\n",
    "for col in range(A_np.shape[1]):\n",
    "    C[:, col] = A_np[:, col] + z\n",
    "C"
   ]
  },
  {
   "cell_type": "code",
   "execution_count": 39,
   "id": "e033d715-d622-413e-bbbf-d8d3b59dafe1",
   "metadata": {},
   "outputs": [
    {
     "name": "stdout",
     "output_type": "stream",
     "text": [
      "X + Y = [[ 6  8]\n",
      " [10 12]]\n",
      "\n",
      "X x Y = [[ 5 12]\n",
      " [21 32]]\n",
      "\n",
      "sq. root of Y = [[2.23606798 2.44948974]\n",
      " [2.64575131 2.82842712]]\n",
      "\n",
      "Dot product of X and v = [29 67]\n",
      "\n",
      "sum of columns of X = [4 6]\n",
      "\n"
     ]
    }
   ],
   "source": [
    "X = np.array([[1,2],[3,4]])\n",
    "Y = np.array([[5,6],[7,8]])\n",
    "v = np.array([9,10])\n",
    "\n",
    "# Task 2.5\n",
    "X_add_Y = np.add(X, Y)\n",
    "print(f'X + Y = {X_add_Y}\\n')\n",
    "\n",
    "# Task 2.6\n",
    "X_mul_Y = np.multiply(X, Y)\n",
    "print(f'X x Y = {X_mul_Y}\\n')\n",
    "\n",
    "# Task 2.7\n",
    "sqrt_Y = np.sqrt(Y)\n",
    "print(f'sq. root of Y = {sqrt_Y}\\n')\n",
    "\n",
    "# Task 2.8\n",
    "dot_prod = np.dot(X, v)\n",
    "print(f'Dot product of X and v = {dot_prod}\\n')\n",
    "\n",
    "# Task 2.9\n",
    "x_sum_columns = np.sum(X, axis=0)\n",
    "print(f'sum of columns of X = {x_sum_columns}\\n')\n"
   ]
  },
  {
   "cell_type": "code",
   "execution_count": null,
   "id": "b57f6814-655d-4957-935b-11df348837a2",
   "metadata": {},
   "outputs": [],
   "source": [
    "# Solutions of Task 3"
   ]
  },
  {
   "cell_type": "code",
   "execution_count": 43,
   "id": "f555ccfb-09be-40fa-99d0-1b6b7084e8eb",
   "metadata": {},
   "outputs": [
    {
     "name": "stdout",
     "output_type": "stream",
     "text": [
      "Velocity = 1.579\n"
     ]
    }
   ],
   "source": [
    "# Task 3.1\n",
    "def compute(distance, time):\n",
    "    velocity = distance/time\n",
    "    print(f\"Velocity = {velocity:.3f}\")\n",
    "    return\n",
    "compute(distance=120, time=76)"
   ]
  },
  {
   "cell_type": "code",
   "execution_count": 49,
   "id": "32dcf946-3764-4f94-a7ff-4e197580372e",
   "metadata": {},
   "outputs": [
    {
     "name": "stdout",
     "output_type": "stream",
     "text": [
      "even numbers till 12: [2, 4, 6, 8, 10, 12]\n",
      "list items multiple: 46080\n"
     ]
    }
   ],
   "source": [
    "# Task 3.2\n",
    "import functools\n",
    "\n",
    "even_num = [x for x in range(1,13) if x%2 == 0]\n",
    "print(f'even numbers till 12: {even_num}')\n",
    "\n",
    "def mul(lst):\n",
    "    multiple = functools.reduce(lambda x, y: x*y, lst)\n",
    "    print(f'list items multiple: {multiple}')\n",
    "    return\n",
    "\n",
    "mul(even_num)"
   ]
  },
  {
   "cell_type": "code",
   "execution_count": null,
   "id": "d48b4611-77ba-4211-8b6a-fbd6b3efe523",
   "metadata": {},
   "outputs": [],
   "source": [
    "# Solutions of Task 4"
   ]
  },
  {
   "cell_type": "code",
   "execution_count": 53,
   "id": "9121bf75-66c2-4192-a4b3-ef5a9e31751a",
   "metadata": {},
   "outputs": [
    {
     "name": "stdout",
     "output_type": "stream",
     "text": [
      "   C1  C2  C3  C4\n",
      "0   1   6   7   7\n",
      "1   2   7   9   5\n",
      "2   3   5   8   2\n",
      "3   5   4   6   8\n",
      "4   5   8   5   8\n",
      "\n",
      "Printing only first 2 rows of df\n",
      "   C1  C2  C3  C4\n",
      "0   1   6   7   7\n",
      "1   2   7   9   5\n"
     ]
    }
   ],
   "source": [
    "import pandas as pd\n",
    "df = pd.DataFrame([[1,6,7,7], [2,7,9,5], [3,5,8,2], [5,4,6,8], [5,8,5,8]], columns=['C1', 'C2', 'C3', 'C4'])\n",
    "print(df)\n",
    "\n",
    "# Task 4.1\n",
    "\n",
    "print('\\nPrinting only first 2 rows of df')\n",
    "print(df[:2])"
   ]
  },
  {
   "cell_type": "code",
   "execution_count": 69,
   "id": "5151d294-f526-42e9-abca-433533281104",
   "metadata": {},
   "outputs": [
    {
     "name": "stdout",
     "output_type": "stream",
     "text": [
      "\n",
      "Printing first 2 columns of df\n",
      "   C2\n",
      "0   6\n",
      "1   7\n",
      "2   5\n",
      "3   4\n",
      "4   8\n"
     ]
    }
   ],
   "source": [
    "# Task 4.2\n",
    "\n",
    "print('\\nPrinting first 2 columns of df')\n",
    "print(df.iloc[:, 1:2])"
   ]
  },
  {
   "cell_type": "code",
   "execution_count": 87,
   "id": "a0e60371-d347-4d4e-8e6c-a26ce13ce948",
   "metadata": {},
   "outputs": [
    {
     "name": "stdout",
     "output_type": "stream",
     "text": [
      "\n",
      "Printing renamed column df\n",
      "   C1  C2  B3  C4  Sum\n",
      "0   1   6   7   7   21\n",
      "1   2   7   9   5   23\n",
      "2   3   5   8   2   18\n",
      "3   5   4   6   8   23\n",
      "4   5   8   5   8   26\n"
     ]
    }
   ],
   "source": [
    "# Task 4.3\n",
    "\n",
    "df.rename(columns={'C3': 'B3'}, inplace=True)\n",
    "print('\\nPrinting renamed column df')\n",
    "print(df)"
   ]
  },
  {
   "cell_type": "code",
   "execution_count": 89,
   "id": "4480c08e-ff6b-4a63-a4bd-bdfe3a9b2715",
   "metadata": {},
   "outputs": [
    {
     "name": "stdout",
     "output_type": "stream",
     "text": [
      "\n",
      " Adding a new null column[sum] in df\n",
      "   C1  C2  B3  C4   Sum\n",
      "0   1   6   7   7  None\n",
      "1   2   7   9   5  None\n",
      "2   3   5   8   2  None\n",
      "3   5   4   6   8  None\n",
      "4   5   8   5   8  None\n"
     ]
    }
   ],
   "source": [
    "# Task 4.4\n",
    "print('\\n Adding a new null column[sum] in df')\n",
    "df['Sum'] = None\n",
    "print(df)"
   ]
  },
  {
   "cell_type": "code",
   "execution_count": 91,
   "id": "3cc45b28-f8c9-4f1e-86cb-e5a457418922",
   "metadata": {},
   "outputs": [
    {
     "name": "stdout",
     "output_type": "stream",
     "text": [
      "\n",
      "Taking Sum in sum column\n",
      "   C1  C2  B3  C4 Sum\n",
      "0   1   6   7   7  21\n",
      "1   2   7   9   5  23\n",
      "2   3   5   8   2  18\n",
      "3   5   4   6   8  23\n",
      "4   5   8   5   8  26\n"
     ]
    }
   ],
   "source": [
    "# Task 4.5\n",
    "\n",
    "print('\\nTaking Sum in sum column')\n",
    "sums = df.sum(axis=1)\n",
    "df['Sum'] = sums\n",
    "print(df)"
   ]
  },
  {
   "cell_type": "code",
   "execution_count": 109,
   "id": "847d59a6-1704-41b4-ac75-7d9a95afe7fd",
   "metadata": {},
   "outputs": [
    {
     "name": "stdout",
     "output_type": "stream",
     "text": [
      "    Gender  F_Color     B_Month  Weight\n",
      "0     Male    Black       March      77\n",
      "1     Male      Red       March      72\n",
      "2     Male    Black     October      53\n",
      "3   Female     Blue    February      63\n",
      "4     Male    black    October       80\n",
      "5   Female    Black    december      97\n",
      "6     Male   Orange      August      60\n",
      "7   Female      Red   September      59\n",
      "8     Male     Blue        July      60\n",
      "9     Male     Blue         May      58\n",
      "10  Female      Red    October       60\n",
      "11    Male    Black   September      65\n",
      "12    Male    Green    December      85\n",
      "13    Male    Black       April      72\n",
      "14    Male    Green    January       90\n",
      "15    Male   Yellow   November       90\n",
      "16    Male    Black      August      54\n",
      "17    Male    Black     January      82\n",
      "18    Male  Mustard   December       60\n",
      "19  Female    Black    October       76\n",
      "20    Male    Black   February       67\n",
      "21    Male   Yellow       April      74\n",
      "22    Male      Red  September       66\n"
     ]
    }
   ],
   "source": [
    "# Task 4.6\n",
    "\n",
    "# Read the dataframe file\n",
    "dataframe = pd.read_csv(\"C:/Users/dell/hello_sample.csv\")\n",
    "\n",
    "# Task 4.7\n",
    "print(dataframe)"
   ]
  },
  {
   "cell_type": "code",
   "execution_count": 107,
   "id": "ee5d8d90-faed-4695-ad9c-a8bd8c943f7c",
   "metadata": {},
   "outputs": [
    {
     "name": "stdout",
     "output_type": "stream",
     "text": [
      "Printing last 2 rows of dataframe\n",
      "    Gender F_Color     B_Month  Weight\n",
      "21   Male  Yellow       April      74\n",
      "22   Male     Red  September       66\n"
     ]
    }
   ],
   "source": [
    "# Task 4.8\n",
    "\n",
    "print(f'Printing last 2 rows of dataframe\\n {dataframe.tail(2)}')"
   ]
  },
  {
   "cell_type": "code",
   "execution_count": 111,
   "id": "39678826-931a-4e73-8ac7-f2ade940ea39",
   "metadata": {},
   "outputs": [
    {
     "name": "stdout",
     "output_type": "stream",
     "text": [
      "\n",
      "Printing dataframe info: \n",
      "\n",
      "<class 'pandas.core.frame.DataFrame'>\n",
      "RangeIndex: 23 entries, 0 to 22\n",
      "Data columns (total 4 columns):\n",
      " #   Column   Non-Null Count  Dtype \n",
      "---  ------   --------------  ----- \n",
      " 0   Gender   23 non-null     object\n",
      " 1   F_Color  23 non-null     object\n",
      " 2   B_Month  23 non-null     object\n",
      " 3   Weight   23 non-null     int64 \n",
      "dtypes: int64(1), object(3)\n",
      "memory usage: 868.0+ bytes\n"
     ]
    }
   ],
   "source": [
    "# Task 4.9\n",
    "\n",
    "print(f'\\nPrinting dataframe info: \\n')\n",
    "dataframe.info()"
   ]
  },
  {
   "cell_type": "code",
   "execution_count": 113,
   "id": "ed3fafef-85e1-480d-a6b4-0edc93c41be1",
   "metadata": {},
   "outputs": [
    {
     "name": "stdout",
     "output_type": "stream",
     "text": [
      "\n",
      "Printing shape of dataframe: (23, 4)\n"
     ]
    }
   ],
   "source": [
    "# Task 4.10\n",
    "\n",
    "print(f'\\nPrinting shape of dataframe: {dataframe.shape}')"
   ]
  },
  {
   "cell_type": "code",
   "execution_count": 139,
   "id": "3bd7dd44-e6a0-4e76-9535-b2cb9934a580",
   "metadata": {},
   "outputs": [
    {
     "name": "stdout",
     "output_type": "stream",
     "text": [
      "    Gender  F_Color     B_Month  Weight\n",
      "5   Female    Black    december      97\n",
      "15    Male   Yellow   November       90\n",
      "14    Male    Green    January       90\n",
      "12    Male    Green    December      85\n",
      "17    Male    Black     January      82\n",
      "4     Male    black    October       80\n",
      "0     Male    Black       March      77\n",
      "19  Female    Black    October       76\n",
      "21    Male   Yellow       April      74\n",
      "13    Male    Black       April      72\n",
      "1     Male      Red       March      72\n",
      "20    Male    Black   February       67\n",
      "22    Male      Red  September       66\n",
      "11    Male    Black   September      65\n",
      "3   Female     Blue    February      63\n",
      "10  Female      Red    October       60\n",
      "8     Male     Blue        July      60\n",
      "18    Male  Mustard   December       60\n",
      "6     Male   Orange      August      60\n",
      "7   Female      Red   September      59\n",
      "9     Male     Blue         May      58\n",
      "16    Male    Black      August      54\n",
      "2     Male    Black     October      53\n",
      "    Gender  F_Color     B_Month  Weight\n",
      "2     Male    Black     October      53\n",
      "16    Male    Black      August      54\n",
      "9     Male     Blue         May      58\n",
      "7   Female      Red   September      59\n",
      "18    Male  Mustard   December       60\n",
      "10  Female      Red    October       60\n",
      "6     Male   Orange      August      60\n",
      "8     Male     Blue        July      60\n",
      "3   Female     Blue    February      63\n",
      "11    Male    Black   September      65\n",
      "22    Male      Red  September       66\n",
      "20    Male    Black   February       67\n",
      "13    Male    Black       April      72\n",
      "1     Male      Red       March      72\n",
      "21    Male   Yellow       April      74\n",
      "19  Female    Black    October       76\n",
      "0     Male    Black       March      77\n",
      "4     Male    black    October       80\n",
      "17    Male    Black     January      82\n",
      "12    Male    Green    December      85\n",
      "14    Male    Green    January       90\n",
      "15    Male   Yellow   November       90\n",
      "5   Female    Black    december      97\n"
     ]
    }
   ],
   "source": [
    "# Task 4.11\n",
    "\n",
    "# Decending Order\n",
    "sorted_dataframe_desc = dataframe.sort_values(by='Weight', ascending=False)\n",
    "print(sorted_dataframe_desc)\n",
    "\n",
    "# Ascending Orders\n",
    "sorted_dataframe = dataframe.sort_values(by='Weight')\n",
    "print(sorted_dataframe)"
   ]
  },
  {
   "cell_type": "code",
   "execution_count": 125,
   "id": "e5f3f462-90ae-4c58-b86a-83e4789dd9b7",
   "metadata": {},
   "outputs": [
    {
     "name": "stdout",
     "output_type": "stream",
     "text": [
      "    Gender  F_Color  B_Month  Weight\n",
      "0    False    False    False   False\n",
      "1    False    False    False   False\n",
      "2    False    False    False   False\n",
      "3    False    False    False   False\n",
      "4    False    False    False   False\n",
      "5    False    False    False   False\n",
      "6    False    False    False   False\n",
      "7    False    False    False   False\n",
      "8    False    False    False   False\n",
      "9    False    False    False   False\n",
      "10   False    False    False   False\n",
      "11   False    False    False   False\n",
      "12   False    False    False   False\n",
      "13   False    False    False   False\n",
      "14   False    False    False   False\n",
      "15   False    False    False   False\n",
      "16   False    False    False   False\n",
      "17   False    False    False   False\n",
      "18   False    False    False   False\n",
      "19   False    False    False   False\n",
      "20   False    False    False   False\n",
      "21   False    False    False   False\n",
      "22   False    False    False   False\n"
     ]
    }
   ],
   "source": [
    "# Task 4.12 (a)\n",
    "\n",
    "null_check = dataframe.isnull()\n",
    "\n",
    "print(null_check)\n"
   ]
  },
  {
   "cell_type": "code",
   "execution_count": 133,
   "id": "2315fb9c-eaaa-4020-9f25-24474876d327",
   "metadata": {},
   "outputs": [
    {
     "name": "stdout",
     "output_type": "stream",
     "text": [
      "    Gender  F_Color     B_Month  Weight\n",
      "0     Male    Black       March      77\n",
      "1     Male      Red       March      72\n",
      "2     Male    Black     October      53\n",
      "3   Female     Blue    February      63\n",
      "4     Male    black    October       80\n",
      "5   Female    Black    december      97\n",
      "6     Male   Orange      August      60\n",
      "7   Female      Red   September      59\n",
      "8     Male     Blue        July      60\n",
      "9     Male     Blue         May      58\n",
      "10  Female      Red    October       60\n",
      "11    Male    Black   September      65\n",
      "12    Male    Green    December      85\n",
      "13    Male    Black       April      72\n",
      "14    Male    Green    January       90\n",
      "15    Male   Yellow   November       90\n",
      "16    Male    Black      August      54\n",
      "17    Male    Black     January      82\n",
      "18    Male  Mustard   December       60\n",
      "19  Female    Black    October       76\n",
      "20    Male    Black   February       67\n",
      "21    Male   Yellow       April      74\n",
      "22    Male      Red  September       66\n"
     ]
    }
   ],
   "source": [
    "# Task 4.12 (b)\n",
    "\n",
    "cleaned_dataframe = dataframe.dropna()\n",
    "\n",
    "print(cleaned_dataframe)"
   ]
  }
 ],
 "metadata": {
  "kernelspec": {
   "display_name": "Python 3 (ipykernel)",
   "language": "python",
   "name": "python3"
  },
  "language_info": {
   "codemirror_mode": {
    "name": "ipython",
    "version": 3
   },
   "file_extension": ".py",
   "mimetype": "text/x-python",
   "name": "python",
   "nbconvert_exporter": "python",
   "pygments_lexer": "ipython3",
   "version": "3.12.4"
  }
 },
 "nbformat": 4,
 "nbformat_minor": 5
}
